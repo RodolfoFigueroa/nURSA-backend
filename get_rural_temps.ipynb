{
 "cells": [
  {
   "cell_type": "code",
   "execution_count": null,
   "metadata": {},
   "outputs": [],
   "source": [
    "import json\n",
    "import requests\n",
    "import shapely\n",
    "\n",
    "import geopandas as gpd\n",
    "import numpy as np\n",
    "import pandas as pd\n",
    "import ra\n",
    "\n",
    "from pathlib import Path"
   ]
  },
  {
   "cell_type": "code",
   "execution_count": 58,
   "metadata": {},
   "outputs": [],
   "source": [
    "# rural_temps = {}\n",
    "buffer_size = 10_000\n",
    "\n",
    "merged_path = Path(r\"C:\\Users\\lain\\OneDrive - Instituto Tecnologico y de Estudios Superiores de Monterrey\\population_grids_data\\final\\reprojected\\merged\")\n",
    "for path in merged_path.glob(\"*.gpkg\"):\n",
    "    df = gpd.read_file(path)\n",
    "\n",
    "    xmin, ymin, xmax, ymax = df.total_bounds\n",
    "    xmin -= buffer_size\n",
    "    ymin -= buffer_size\n",
    "    xmax += buffer_size\n",
    "    ymax += buffer_size\n",
    "\n",
    "    xmin, ymin, xmax, ymax = gpd.GeoSeries([shapely.box(xmin, ymin, xmax, ymax)], crs=df.crs).to_crs(\"EPSG:4326\").total_bounds\n",
    "    \n",
    "    response = requests.post(\n",
    "        \"http://localhost:8000/suhi/raster\",\n",
    "        data=json.dumps(dict(\n",
    "            xmin=xmin,\n",
    "            ymin=ymin,\n",
    "            xmax=xmax,\n",
    "            ymax=ymax,\n",
    "            year=2023,\n",
    "            season=\"Qall\"\n",
    "        )),\n",
    "    )\n",
    "    response_json = response.json()\n",
    "    break\n",
    "    # rural_temps[f\"M{path.stem[:2]}.{path.stem[5:]}\"] = response.json()[\"value\"]"
   ]
  },
  {
   "cell_type": "code",
   "execution_count": 60,
   "metadata": {},
   "outputs": [
    {
     "data": {
      "text/plain": [
       "array([[ 8.70283984,  8.89282479,  8.73198796, ...,  0.68348765,\n",
       "         0.51391588,  0.71643357],\n",
       "       [ 8.65774097,  8.38069146,  7.90767547, ..., -0.86497035,\n",
       "         0.01146694,  0.36513707],\n",
       "       [ 8.87601952,  8.31793281,  7.64002551, ..., -0.51937055,\n",
       "         0.59822704,  0.78707265],\n",
       "       ...,\n",
       "       [ 7.14319732,  5.86305388,  5.44934687, ...,  4.44682262,\n",
       "         3.96697059,  3.28461353],\n",
       "       [ 7.17221884,  5.76374141,  5.28506037, ...,  4.72216312,\n",
       "         4.22142319,  3.43850672],\n",
       "       [ 6.59875104,  5.14058573,  4.77356001, ...,  5.09434752,\n",
       "         5.34424276,  4.92534542]], shape=(837, 597))"
      ]
     },
     "execution_count": 60,
     "metadata": {},
     "output_type": "execute_result"
    }
   ],
   "source": [
    "arr = np.reshape(response_json[\"data\"], (response_json[\"height\"], response_json[\"width\"]))\n",
    "arr"
   ]
  },
  {
   "cell_type": "code",
   "execution_count": 55,
   "metadata": {},
   "outputs": [
    {
     "data": {
      "text/plain": [
       "[0.0007186522272956172,\n",
       " 0.0,\n",
       " -102.4668718722637,\n",
       " 0.0,\n",
       " -0.0007186522272956172,\n",
       " 22.179763691024633,\n",
       " 0.0,\n",
       " 0.0,\n",
       " 1.0]"
      ]
     },
     "execution_count": 55,
     "metadata": {},
     "output_type": "execute_result"
    }
   ],
   "source": [
    "decoded[\"transform\"]"
   ]
  },
  {
   "cell_type": "code",
   "execution_count": null,
   "metadata": {},
   "outputs": [],
   "source": [
    "hashes = {}\n",
    "\n",
    "for path in merged_path.glob(\"*.gpkg\"):\n",
    "    df = gpd.read_file(path)\n",
    "\n",
    "    xmin, ymin, xmax, ymax = df.total_bounds\n",
    "    xmin -= 5000\n",
    "    ymin -= 5000\n",
    "    xmax += 5000\n",
    "    ymax += 5000\n",
    "\n",
    "    xmin, ymin, xmax, ymax = gpd.GeoSeries([shapely.box(xmin, ymin, xmax, ymax)], crs=df.crs).to_crs(\"EPSG:4326\").total_bounds\n",
    "    hashes[f\"M{path.stem[:2]}.{path.stem[5:]}\"] = str(hash((xmin, ymin, xmax, ymax)))[:7]"
   ]
  },
  {
   "cell_type": "code",
   "execution_count": null,
   "metadata": {},
   "outputs": [],
   "source": [
    "df = pd.Series(rural_temps).to_frame()\n",
    "df.index.name = \"zone\"\n",
    "df.columns = [\"temp\"]\n",
    "df.to_csv(\"./rural_temps.csv\")"
   ]
  }
 ],
 "metadata": {
  "kernelspec": {
   "display_name": ".venv",
   "language": "python",
   "name": "python3"
  },
  "language_info": {
   "codemirror_mode": {
    "name": "ipython",
    "version": 3
   },
   "file_extension": ".py",
   "mimetype": "text/x-python",
   "name": "python",
   "nbconvert_exporter": "python",
   "pygments_lexer": "ipython3",
   "version": "3.12.8"
  }
 },
 "nbformat": 4,
 "nbformat_minor": 2
}
